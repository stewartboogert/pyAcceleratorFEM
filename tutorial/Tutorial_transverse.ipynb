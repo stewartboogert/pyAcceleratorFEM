{
 "cells": [
  {
   "cell_type": "code",
   "execution_count": null,
   "id": "7297712b-4e55-4ad2-becc-a5df81c28bc4",
   "metadata": {},
   "outputs": [],
   "source": [
    "import pyCavity2d\n",
    "import matplotlib.pyplot as plt\n",
    "import numpy as np"
   ]
  },
  {
   "cell_type": "markdown",
   "id": "3c6d713f-dbc2-405c-a927-fb8357723924",
   "metadata": {},
   "source": [
    "### Axial electric field"
   ]
  },
  {
   "cell_type": "code",
   "execution_count": null,
   "id": "fcfd3a39-b8e0-41ee-9c11-b8f22b0f2a91",
   "metadata": {},
   "outputs": [],
   "source": [
    "z, Ez = pyCavity2d.AxialElectricField()\n",
    "Er, Bp = pyCavity2d.ComputeErAndBpFromEz(z,Ez,r = 0.001)"
   ]
  },
  {
   "cell_type": "code",
   "execution_count": null,
   "id": "67941ed5-3ed1-470a-9657-70f3734bfda0",
   "metadata": {},
   "outputs": [],
   "source": [
    "plt.subplot(2,2,1)\n",
    "plt.plot(z,np.abs(Ez.real))\n",
    "plt.xlabel(\"$z$\")\n",
    "plt.ylabel(\"$E_z$\")\n",
    "\n",
    "plt.subplot(2,2,2)\n",
    "plt.plot(z,np.abs(Er.real))\n",
    "plt.xlabel(\"z\")\n",
    "plt.ylabel(\"$E_r$\")\n",
    "\n",
    "plt.subplot(2,2,3)\n",
    "plt.plot(z,np.abs(Bp.real))\n",
    "plt.xlabel(\"z\")\n",
    "plt.ylabel(\"$B_\\\\phi$\")\n",
    "\n",
    "plt.tight_layout()"
   ]
  },
  {
   "cell_type": "markdown",
   "id": "44cb4d24-f679-46aa-a817-a47930c89eb4",
   "metadata": {},
   "source": [
    "### Transverse matrix\n",
    "$$ L_{\\rm cavity} = 1\\;{\\rm m}$$\n",
    "$$ E_i = 50 $$\n",
    "$$ E_f = 60 $$"
   ]
  },
  {
   "cell_type": "code",
   "execution_count": null,
   "id": "b69f72a1-f462-480c-8c7e-37a45b77b3c6",
   "metadata": {},
   "outputs": [],
   "source": [
    "Ei = 50 \n",
    "Ef = 60\n",
    "eta = pyCavity2d.CavityBodyEta()\n",
    "alpha = pyCavity2d.CavityBodyAlpha(Ei,Ef,eta,0)\n",
    "cavity_body = pyCavity2d.CavityBodyTransverseMatrix(Ei,Ef,1.0,alpha, eta,0)\n",
    "cavity_fringe_in  = pyCavity2d.CavityFringeTransverseMatrix(Ei,Ef,1.0,inward=True)\n",
    "cavity_fringe_out = pyCavity2d.CavityFringeTransverseMatrix(Ei,Ef,1.0,inward=False)\n",
    "mcomplete1 = cavity_fringe_out @ cavity_body @ cavity_fringe_in\n",
    "mcomplete2 = pyCavity2d.CavityPiModeComplete(Ei,Ef,1.0,alpha)\n",
    "print(mcomplete1)\n",
    "print(mcomplete2)\n"
   ]
  }
 ],
 "metadata": {
  "kernelspec": {
   "display_name": "Python 3 (ipykernel)",
   "language": "python",
   "name": "python3"
  },
  "language_info": {
   "codemirror_mode": {
    "name": "ipython",
    "version": 3
   },
   "file_extension": ".py",
   "mimetype": "text/x-python",
   "name": "python",
   "nbconvert_exporter": "python",
   "pygments_lexer": "ipython3",
   "version": "3.12.4"
  }
 },
 "nbformat": 4,
 "nbformat_minor": 5
}
