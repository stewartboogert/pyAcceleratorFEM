{
 "cells": [
  {
   "cell_type": "markdown",
   "id": "ab052cd3-3f24-4949-9f0e-fcdb2cdcacac",
   "metadata": {},
   "source": [
    "# 5 cell 800 MHz rectangular cavity \n",
    "\n",
    "\n",
    "* [PERLE collaboration meeting cavity talk](https://indico.ijclab.in2p3.fr/event/7907/contributions/24619/attachments/18114/23933/Rimmer_ERL_cavity.pdf)\n",
    "* [PERLE HOM coupler](https://accelconf.web.cern.ch/linac2022/papers/thpojo21.pdf)\n",
    "\n",
    "Cavity angular frequency $\\omega$ as a function of radius $R$\n",
    "$$ \\omega = 2\\pi f = \\frac{2.405c}{R} $$\n",
    "\n",
    "So for a $\\pi$ mode cavity the distance between two cells is \n",
    "\n",
    "$$ l_{\\rm cell} = \\frac{1}{2f} c$$\n",
    "\n",
    "For an $n_{\\rm cell}$ cavity the total cavity length is then \n",
    "\n",
    "$$ l_{\\rm cavity} = n_{\\rm cell} l_{\\rm cell}$$"
   ]
  },
  {
   "cell_type": "code",
   "execution_count": 16,
   "id": "b69174bb-42a6-4b97-b706-f8b100060035",
   "metadata": {},
   "outputs": [],
   "source": [
    "import numpy as np\n",
    "\n",
    "def freq_from_radius(radius_m) :\n",
    "    return 2.405*3e8/radius_m/1e9/2/np.pi\n",
    "\n",
    "def radius_from_freq(freq_ghz) : \n",
    "    return 2.405*3e8/(2*np.pi*freq_ghz*1e9)\n",
    "\n",
    "def cell_length(freq_ghz) :\n",
    "    return 1./(freq_ghz*1e9)/2*3e8"
   ]
  },
  {
   "cell_type": "code",
   "execution_count": 2,
   "id": "858ec590-9ea5-4a82-8a70-dbcee456614f",
   "metadata": {},
   "outputs": [
    {
     "name": "stdout",
     "output_type": "stream",
     "text": [
      "rcell=0.144 lcell=0.188 lcav=0.938\n"
     ]
    }
   ],
   "source": [
    "rcell = radius_from_freq(0.8)\n",
    "lcell = cell_length(0.8)\n",
    "lcav  = 5*lcell\n",
    "print(f\"rcell={rcell:5.3} lcell={lcell:5.3} lcav={lcav:5.3}\")"
   ]
  },
  {
   "cell_type": "code",
   "execution_count": 5,
   "id": "15a4c1a6-fcf0-48a0-8501-119aea4efe77",
   "metadata": {},
   "outputs": [
    {
     "name": "stdout",
     "output_type": "stream",
     "text": [
      "('zmin', 'default', 'default', 'default', 'default', 'default', 'zmax', 'rmin')\n",
      "0 -9.025149268211496e-14 freq:  nan MHz\n",
      "1 282.76510233236564 freq:  802.3313082461727 MHz\n",
      "2 531.9388906056672 freq:  1100.453525695046 MHz\n",
      "3 1276.3467599480634 freq:  1704.6105605391983 MHz\n",
      "4 1504.5073771113744 freq:  1850.7083966430034 MHz\n",
      "5 1773.201725804216 freq:  2009.184907682413 MHz\n",
      "6 2523.6075673220057 freq:  2396.9100981120146 MHz\n",
      "7 2529.6962753720663 freq:  2399.799868655968 MHz\n",
      "8 3730.1968078123145 freq:  2914.115142526257 MHz\n",
      "9 3771.5984292813423 freq:  2930.242463799964 MHz\n"
     ]
    },
    {
     "name": "stderr",
     "output_type": "stream",
     "text": [
      "/Users/stewart.boogert/Dropbox/Physics/coderepos/pyCavity2d/src/pyCavity2d/FieldCalculator.py:58: RuntimeWarning: invalid value encountered in sqrt\n",
      "  self.eigen_freq.append(c0 * _np.sqrt(lam) / (2 * _np.pi) * 1e-6)\n",
      "/Users/stewart.boogert/Dropbox/Physics/coderepos/pyCavity2d/src/pyCavity2d/FieldCalculator.py:59: RuntimeWarning: invalid value encountered in sqrt\n",
      "  print(i, lam, 'freq: ', c0 * _np.sqrt(lam) / (2 * _np.pi) * 1e-6, \"MHz\")\n"
     ]
    }
   ],
   "source": [
    "import pyCavity2d\n",
    "b_sc = pyCavity2d.DomainLoader.load2d_boundary(\"pillbox_0.8GHz.dat\")\n",
    "d_sc = pyCavity2d.Domain2D(b_sc,single_cell=True,maxh=0.01)\n",
    "fc_sc = pyCavity2d.FieldCalculator(d_sc)\n",
    "fc_sc.compute(maxit=200)"
   ]
  },
  {
   "cell_type": "code",
   "execution_count": 6,
   "id": "74441f41-8833-40b8-9e80-881cbb19fa4f",
   "metadata": {},
   "outputs": [
    {
     "data": {
      "application/vnd.jupyter.widget-view+json": {
       "model_id": "c6f4d49ca5aa4727bd9b1e4708cce48f",
       "version_major": 2,
       "version_minor": 0
      },
      "text/plain": [
       "WebGuiWidget(layout=Layout(height='50vh', width='100%'), value={'gui_settings': {}, 'ngsolve_version': '6.2.24…"
      ]
     },
     "metadata": {},
     "output_type": "display_data"
    }
   ],
   "source": [
    "fc_sc.draw(1)"
   ]
  },
  {
   "cell_type": "code",
   "execution_count": 7,
   "id": "0d50f836-53b7-49d1-b0e6-485fac527f1f",
   "metadata": {
    "scrolled": true
   },
   "outputs": [
    {
     "name": "stdout",
     "output_type": "stream",
     "text": [
      "0.21\n",
      "('zmin', 'default', 'default', 'default', 'default', 'default', 'default', 'default', 'default', 'default', 'default', 'default', 'default', 'default', 'default', 'default', 'default', 'default', 'default', 'default', 'default', 'default', 'default', 'default', 'default', 'default', 'zmax', 'rmin')\n",
      "0 1.86372912595802e-13 freq:  2.059834039458133e-05 MHz\n",
      "1 281.83040158012216 freq:  801.0041281190408 MHz\n",
      "2 282.08556126055527 freq:  801.3666470605137 MHz\n",
      "3 282.40286379526776 freq:  801.8172270232375 MHz\n",
      "4 282.66100309463354 freq:  802.1836065576822 MHz\n",
      "5 282.76142100200553 freq:  802.3260854372174 MHz\n",
      "6 530.1293630220264 freq:  1098.5801926748143 MHz\n",
      "7 530.6692691515693 freq:  1099.139470542471 MHz\n",
      "8 531.2827090227597 freq:  1099.774575372696 MHz\n",
      "9 531.9434675554162 freq:  1100.4582599885362 MHz\n"
     ]
    }
   ],
   "source": [
    "import pyCavity2d\n",
    "b_mc = pyCavity2d.DomainLoader.load2d_boundary_repeat(\"./pillbox_0.8GHz.dat\",5)\n",
    "d_mc = pyCavity2d.Domain2D(b_mc,single_cell=True,maxh=0.01)\n",
    "fc_mc = pyCavity2d.FieldCalculator(d_mc)\n",
    "fc_mc.compute(maxit=200)"
   ]
  },
  {
   "cell_type": "code",
   "execution_count": 8,
   "id": "69a31eee-5aa7-4484-8ab3-8f6f58e62273",
   "metadata": {},
   "outputs": [
    {
     "data": {
      "application/vnd.jupyter.widget-view+json": {
       "model_id": "e21e5f850be04972a6832a3773870787",
       "version_major": 2,
       "version_minor": 0
      },
      "text/plain": [
       "WebGuiWidget(layout=Layout(height='50vh', width='100%'), value={'gui_settings': {}, 'ngsolve_version': '6.2.24…"
      ]
     },
     "metadata": {},
     "output_type": "display_data"
    }
   ],
   "source": [
    "fc_mc.draw(1)"
   ]
  },
  {
   "cell_type": "code",
   "execution_count": 9,
   "id": "fcfaf783-b9fb-4c45-b0a5-e3f25d004686",
   "metadata": {},
   "outputs": [
    {
     "data": {
      "application/vnd.jupyter.widget-view+json": {
       "model_id": "c413f73c486b4cd8900308379aa8db70",
       "version_major": 2,
       "version_minor": 0
      },
      "text/plain": [
       "WebGuiWidget(layout=Layout(height='50vh', width='100%'), value={'gui_settings': {}, 'ngsolve_version': '6.2.24…"
      ]
     },
     "metadata": {},
     "output_type": "display_data"
    }
   ],
   "source": [
    "fc_mc.draw(2)"
   ]
  },
  {
   "cell_type": "code",
   "execution_count": 10,
   "id": "c076e6d1-ae46-4305-b70b-0d6ba053a23b",
   "metadata": {},
   "outputs": [
    {
     "data": {
      "application/vnd.jupyter.widget-view+json": {
       "model_id": "835f365410f8499b998a78946f1b6f14",
       "version_major": 2,
       "version_minor": 0
      },
      "text/plain": [
       "WebGuiWidget(layout=Layout(height='50vh', width='100%'), value={'gui_settings': {}, 'ngsolve_version': '6.2.24…"
      ]
     },
     "metadata": {},
     "output_type": "display_data"
    }
   ],
   "source": [
    "fc_mc.draw(3)"
   ]
  },
  {
   "cell_type": "code",
   "execution_count": 11,
   "id": "6ad3c909-5218-4521-b997-4b9af7689acb",
   "metadata": {},
   "outputs": [
    {
     "data": {
      "application/vnd.jupyter.widget-view+json": {
       "model_id": "7a7eeaca76e14bccbb9b9dac18cc3560",
       "version_major": 2,
       "version_minor": 0
      },
      "text/plain": [
       "WebGuiWidget(layout=Layout(height='50vh', width='100%'), value={'gui_settings': {}, 'ngsolve_version': '6.2.24…"
      ]
     },
     "metadata": {},
     "output_type": "display_data"
    }
   ],
   "source": [
    "fc_mc.draw(4)"
   ]
  },
  {
   "cell_type": "code",
   "execution_count": 17,
   "id": "f9ca4a5b-1522-46f8-af9a-eb4ba3050dfd",
   "metadata": {},
   "outputs": [
    {
     "data": {
      "application/vnd.jupyter.widget-view+json": {
       "model_id": "828e51df85ec47488ad2155d1f7c9b7d",
       "version_major": 2,
       "version_minor": 0
      },
      "text/plain": [
       "WebGuiWidget(layout=Layout(height='50vh', width='100%'), value={'gui_settings': {}, 'ngsolve_version': '6.2.24…"
      ]
     },
     "metadata": {},
     "output_type": "display_data"
    }
   ],
   "source": [
    "fc_mc.draw(5,field=\"E\")"
   ]
  },
  {
   "cell_type": "code",
   "execution_count": null,
   "id": "d3a0db00-8b13-4580-a40a-63ee54520e90",
   "metadata": {},
   "outputs": [],
   "source": []
  }
 ],
 "metadata": {
  "kernelspec": {
   "display_name": "Python 3 (ipykernel)",
   "language": "python",
   "name": "python3"
  },
  "language_info": {
   "codemirror_mode": {
    "name": "ipython",
    "version": 3
   },
   "file_extension": ".py",
   "mimetype": "text/x-python",
   "name": "python",
   "nbconvert_exporter": "python",
   "pygments_lexer": "ipython3",
   "version": "3.12.4"
  }
 },
 "nbformat": 4,
 "nbformat_minor": 5
}
