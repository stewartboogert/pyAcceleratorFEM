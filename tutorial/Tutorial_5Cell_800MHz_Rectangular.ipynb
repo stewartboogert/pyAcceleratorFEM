{
 "cells": [
  {
   "cell_type": "markdown",
   "id": "ab052cd3-3f24-4949-9f0e-fcdb2cdcacac",
   "metadata": {},
   "source": [
    "# 5 cell 800 MHz rectangular cavity \n",
    "\n",
    "\n",
    "* [PERLE collaboration meeting cavity talk](https://indico.ijclab.in2p3.fr/event/7907/contributions/24619/attachments/18114/23933/Rimmer_ERL_cavity.pdf)\n",
    "* [PERLE HOM coupler](https://accelconf.web.cern.ch/linac2022/papers/thpojo21.pdf)\n",
    "\n",
    "Cavity angular frequency $\\omega$ as a function of radius $R$\n",
    "$$ \\omega = 2\\pi f = \\frac{2.405c}{R} $$\n",
    "\n",
    "So for a $\\pi$ mode cavity the distance between two cells is \n",
    "\n",
    "$$ l_{\\rm cell} = \\frac{1}{2f} c$$\n",
    "\n",
    "For an $n_{\\rm cell}$ cavity the total cavity length is then \n",
    "\n",
    "$$ l_{\\rm cavity} = n_{\\rm cell} l_{\\rm cell}$$"
   ]
  },
  {
   "cell_type": "code",
   "execution_count": 2,
   "id": "b69174bb-42a6-4b97-b706-f8b100060035",
   "metadata": {},
   "outputs": [],
   "source": [
    "import numpy as np\n",
    "\n",
    "def freq_from_radius(radius_m) :\n",
    "    return 2.405*3e8/radius_m/1e9/2/np.pi\n",
    "\n",
    "def radius_from_freq(freq_ghz) : \n",
    "    return 2.405*3e8/(2*np.pi*freq_ghz*1e9)\n",
    "\n",
    "def cell_length(freq_ghz) :\n",
    "    return 1./(freq_ghz*1e9)/2*3e8"
   ]
  },
  {
   "cell_type": "code",
   "execution_count": 3,
   "id": "04455f79-b28b-4561-9e14-32b524450053",
   "metadata": {},
   "outputs": [
    {
     "name": "stdout",
     "output_type": "stream",
     "text": [
      "rcell=0.144 lcell=0.188 lcav=0.938\n"
     ]
    }
   ],
   "source": [
    "rcell = radius_from_freq(0.8)\n",
    "lcell = cell_length(0.8)\n",
    "lcav  = 5*lcell\n",
    "print(f\"rcell={rcell:5.3} lcell={lcell:5.3} lcav={lcav:5.3}\")"
   ]
  },
  {
   "cell_type": "code",
   "execution_count": 1,
   "id": "0a97858e-da31-4984-b9fe-1beda90fa2a7",
   "metadata": {},
   "outputs": [
    {
     "name": "stdout",
     "output_type": "stream",
     "text": [
      "[[0, 0], [0, 0.01], [0.01, 0.01], [0.01, 0.14343856384956055], [0.17737028625000004, 0.14343856384956055], [0.17737028625000004, 0.01], [0.18737028625000002, 0.01], [0.18737028625000002, 0], [0, 0]]\n"
     ]
    },
    {
     "data": {
      "text/plain": [
       "[[0, 0],\n",
       " [0, 0.01],\n",
       " [0.01, 0.01],\n",
       " [0.01, 0.14343856384956055],\n",
       " [0.17737028625000004, 0.14343856384956055],\n",
       " [0.17737028625000004, 0.01],\n",
       " [0.18737028625000002, 0.01],\n",
       " [0.18737028625000002, 0],\n",
       " [0, 0]]"
      ]
     },
     "execution_count": 1,
     "metadata": {},
     "output_type": "execute_result"
    }
   ],
   "source": [
    "import pyCavity2d\n",
    "pyCavity2d.DomainCreator.make2d_rectangular()"
   ]
  },
  {
   "cell_type": "code",
   "execution_count": 1,
   "id": "15a4c1a6-fcf0-48a0-8501-119aea4efe77",
   "metadata": {},
   "outputs": [
    {
     "name": "stdout",
     "output_type": "stream",
     "text": [
      "[[-0.09368514312500001, 0], [-0.09368514312500001, 0.025], [-0.08368514312500001, 0.025], [-0.08368514312500001, 0.14343856384956055], [0.08368514312500001, 0.14343856384956055], [0.08368514312500001, 0.025], [0.09368514312500001, 0.025], [0.09368514312500001, 0]]\n",
      "('zmin', 'default', 'default', 'default', 'default', 'default', 'zmax', 'rmin')\n",
      "0 -5.141161148524933e-13 freq:  nan MHz\n",
      "1 282.9334150340543 freq:  802.5700620021538 MHz\n",
      "2 638.0461757040833 freq:  1205.221552945994 MHz\n",
      "3 1505.069113505524 freq:  1851.0538629583307 MHz\n",
      "4 1704.917936904284 freq:  1970.1195221371333 MHz\n",
      "5 1880.5082432473914 freq:  2069.08558625823 MHz\n",
      "6 2954.097161353371 freq:  2593.3027598487997 MHz\n",
      "7 3503.8387199482204 freq:  2824.313411781046 MHz\n",
      "8 3736.202973126205 freq:  2916.4602758254673 MHz\n",
      "9 4148.375139706317 freq:  3073.1223140370903 MHz\n"
     ]
    },
    {
     "name": "stderr",
     "output_type": "stream",
     "text": [
      "/Users/stewart.boogert/Dropbox/Physics/coderepos/pyCavity2d/src/pyCavity2d/FieldCalculator.py:58: RuntimeWarning: invalid value encountered in sqrt\n",
      "  self.eigen_freq.append(c0 * _np.sqrt(lam) / (2 * _np.pi) * 1e-6)\n",
      "/Users/stewart.boogert/Dropbox/Physics/coderepos/pyCavity2d/src/pyCavity2d/FieldCalculator.py:59: RuntimeWarning: invalid value encountered in sqrt\n",
      "  print(i, lam, 'freq: ', c0 * _np.sqrt(lam) / (2 * _np.pi) * 1e-6, \"MHz\")\n"
     ]
    }
   ],
   "source": [
    "import pyCavity2d\n",
    "#b_sc = pyCavity2d.DomainLoader.load2d_boundary(\"pillbox_0.8GHz.dat\")\n",
    "b_sc = pyCavity2d.DomainCreator.make2d_rectangular()\n",
    "d_sc = pyCavity2d.Domain2D(b_sc,single_cell=True,maxh=0.01)\n",
    "fc_sc = pyCavity2d.FieldCalculator(d_sc)\n",
    "fc_sc.compute(maxit=200)"
   ]
  },
  {
   "cell_type": "code",
   "execution_count": 2,
   "id": "74441f41-8833-40b8-9e80-881cbb19fa4f",
   "metadata": {},
   "outputs": [
    {
     "data": {
      "application/vnd.jupyter.widget-view+json": {
       "model_id": "076150d3ae1f4411b03e424c0f775ac1",
       "version_major": 2,
       "version_minor": 0
      },
      "text/plain": [
       "WebGuiWidget(layout=Layout(height='50vh', width='100%'), value={'gui_settings': {}, 'ngsolve_version': '6.2.24…"
      ]
     },
     "metadata": {},
     "output_type": "display_data"
    }
   ],
   "source": [
    "fc_sc.draw(1)"
   ]
  },
  {
   "cell_type": "code",
   "execution_count": 3,
   "id": "0d50f836-53b7-49d1-b0e6-485fac527f1f",
   "metadata": {
    "scrolled": true
   },
   "outputs": [
    {
     "name": "stdout",
     "output_type": "stream",
     "text": [
      "[[-0.09368514312500001, 0], [-0.09368514312500001, 0.025], [-0.08368514312500001, 0.025], [-0.08368514312500001, 0.14343856384956055], [0.08368514312500001, 0.14343856384956055], [0.08368514312500001, 0.025], [0.09368514312500001, 0.025], [0.09368514312500001, 0]]\n",
      "0.18737028625000002\n",
      "('zmin', 'default', 'default', 'default', 'default', 'default', 'default', 'default', 'default', 'default', 'default', 'default', 'default', 'default', 'default', 'default', 'default', 'default', 'default', 'default', 'default', 'default', 'default', 'default', 'default', 'default', 'zmax', 'rmin')\n",
      "0 4.6450142687856846e-14 freq:  1.0283343920588949e-05 MHz\n",
      "1 282.52933979976433 freq:  801.9967565188521 MHz\n",
      "2 282.640363138239 freq:  802.1543182286612 MHz\n",
      "3 282.7836942561159 freq:  802.3576846221692 MHz\n",
      "4 282.89489457124034 freq:  802.5154264926762 MHz\n",
      "5 282.94400612222734 freq:  802.5850832232175 MHz\n",
      "6 637.2468527702256 freq:  1204.4663857103192 MHz\n",
      "7 637.4957003454122 freq:  1204.7015373494157 MHz\n",
      "8 637.9856317077222 freq:  1205.1643700467177 MHz\n",
      "9 638.0136911932765 freq:  1205.1908721485975 MHz\n"
     ]
    }
   ],
   "source": [
    "import pyCavity2d\n",
    "b_sc = pyCavity2d.DomainCreator.make2d_rectangular()\n",
    "#b_sc = pyCavity2d.DomainLoader.load2d_boundary(\"pillbox_0.8GHz.dat\")\n",
    "b_mc = pyCavity2d.DomainLoader.make_boundary_repeat(b_sc,5)\n",
    "d_mc = pyCavity2d.Domain2D(b_mc,single_cell=True,maxh=0.01)\n",
    "fc_mc = pyCavity2d.FieldCalculator(d_mc)\n",
    "fc_mc.compute(maxit=200)"
   ]
  },
  {
   "cell_type": "code",
   "execution_count": 5,
   "id": "69a31eee-5aa7-4484-8ab3-8f6f58e62273",
   "metadata": {},
   "outputs": [
    {
     "data": {
      "application/vnd.jupyter.widget-view+json": {
       "model_id": "5c6fd2b37f24403988e7a6666d36aeb5",
       "version_major": 2,
       "version_minor": 0
      },
      "text/plain": [
       "WebGuiWidget(layout=Layout(height='50vh', width='100%'), value={'gui_settings': {}, 'ngsolve_version': '6.2.24…"
      ]
     },
     "metadata": {},
     "output_type": "display_data"
    }
   ],
   "source": [
    "fc_mc.draw(1)"
   ]
  },
  {
   "cell_type": "code",
   "execution_count": 6,
   "id": "fcfaf783-b9fb-4c45-b0a5-e3f25d004686",
   "metadata": {},
   "outputs": [
    {
     "data": {
      "application/vnd.jupyter.widget-view+json": {
       "model_id": "b1e89b69d9fe492eaa621a247f24d76c",
       "version_major": 2,
       "version_minor": 0
      },
      "text/plain": [
       "WebGuiWidget(layout=Layout(height='50vh', width='100%'), value={'gui_settings': {}, 'ngsolve_version': '6.2.24…"
      ]
     },
     "metadata": {},
     "output_type": "display_data"
    }
   ],
   "source": [
    "fc_mc.draw(2)"
   ]
  },
  {
   "cell_type": "code",
   "execution_count": 7,
   "id": "c076e6d1-ae46-4305-b70b-0d6ba053a23b",
   "metadata": {},
   "outputs": [
    {
     "data": {
      "application/vnd.jupyter.widget-view+json": {
       "model_id": "72c2b916b6db4eeda7a22ab234ef1ed1",
       "version_major": 2,
       "version_minor": 0
      },
      "text/plain": [
       "WebGuiWidget(layout=Layout(height='50vh', width='100%'), value={'gui_settings': {}, 'ngsolve_version': '6.2.24…"
      ]
     },
     "metadata": {},
     "output_type": "display_data"
    }
   ],
   "source": [
    "fc_mc.draw(3)"
   ]
  },
  {
   "cell_type": "code",
   "execution_count": 8,
   "id": "6ad3c909-5218-4521-b997-4b9af7689acb",
   "metadata": {},
   "outputs": [
    {
     "data": {
      "application/vnd.jupyter.widget-view+json": {
       "model_id": "2b2d05cbc47a4d258a379bb185d7251b",
       "version_major": 2,
       "version_minor": 0
      },
      "text/plain": [
       "WebGuiWidget(layout=Layout(height='50vh', width='100%'), value={'gui_settings': {}, 'ngsolve_version': '6.2.24…"
      ]
     },
     "metadata": {},
     "output_type": "display_data"
    }
   ],
   "source": [
    "fc_mc.draw(4)"
   ]
  },
  {
   "cell_type": "code",
   "execution_count": 9,
   "id": "f9ca4a5b-1522-46f8-af9a-eb4ba3050dfd",
   "metadata": {},
   "outputs": [
    {
     "data": {
      "application/vnd.jupyter.widget-view+json": {
       "model_id": "7dd785c832d5485b8a495f022d36eb0b",
       "version_major": 2,
       "version_minor": 0
      },
      "text/plain": [
       "WebGuiWidget(layout=Layout(height='50vh', width='100%'), value={'gui_settings': {}, 'ngsolve_version': '6.2.24…"
      ]
     },
     "metadata": {},
     "output_type": "display_data"
    }
   ],
   "source": [
    "fc_mc.draw(5,field=\"E\")"
   ]
  }
 ],
 "metadata": {
  "kernelspec": {
   "display_name": "Python 3 (ipykernel)",
   "language": "python",
   "name": "python3"
  },
  "language_info": {
   "codemirror_mode": {
    "name": "ipython",
    "version": 3
   },
   "file_extension": ".py",
   "mimetype": "text/x-python",
   "name": "python",
   "nbconvert_exporter": "python",
   "pygments_lexer": "ipython3",
   "version": "3.12.4"
  }
 },
 "nbformat": 4,
 "nbformat_minor": 5
}
