{
 "cells": [
  {
   "cell_type": "markdown",
   "id": "ab052cd3-3f24-4949-9f0e-fcdb2cdcacac",
   "metadata": {},
   "source": [
    "# 5 cell 800 MHz rectangular cavity \n",
    "\n",
    "\n",
    "* [PERLE collaboration meeting cavity talk](https://indico.ijclab.in2p3.fr/event/7907/contributions/24619/attachments/18114/23933/Rimmer_ERL_cavity.pdf)\n",
    "* [PERLE HOM coupler](https://accelconf.web.cern.ch/linac2022/papers/thpojo21.pdf)\n",
    "\n",
    "Cavity angular frequency $\\omega$ as a function of radius $R$\n",
    "$$ \\omega = 2\\pi f = \\frac{2.405c}{R} $$\n",
    "\n",
    "So for a $\\pi$ mode cavity the distance between two cells is \n",
    "\n",
    "$$ l_{\\rm cell} = \\frac{1}{2f} c$$\n",
    "\n",
    "For an $n_{\\rm cell}$ cavity the total cavity length is then \n",
    "\n",
    "$$ l_{\\rm cavity} = n_{\\rm cell} l_{\\rm cell}$$"
   ]
  },
  {
   "cell_type": "code",
   "execution_count": 2,
   "id": "b69174bb-42a6-4b97-b706-f8b100060035",
   "metadata": {},
   "outputs": [],
   "source": [
    "import numpy as np\n",
    "\n",
    "def freq_from_radius(radius_m) :\n",
    "    return 2.405*3e8/radius_m/1e9/2/np.pi\n",
    "\n",
    "def radius_from_freq(freq_ghz) : \n",
    "    return 2.405*3e8/(2*np.pi*freq_ghz*1e9)\n",
    "\n",
    "def cell_length(freq_ghz) :\n",
    "    return 1./(freq_ghz*1e9)/2*3e8"
   ]
  },
  {
   "cell_type": "code",
   "execution_count": 3,
   "id": "04455f79-b28b-4561-9e14-32b524450053",
   "metadata": {},
   "outputs": [
    {
     "name": "stdout",
     "output_type": "stream",
     "text": [
      "rcell=0.144 lcell=0.188 lcav=0.938\n"
     ]
    }
   ],
   "source": [
    "rcell = radius_from_freq(0.8)\n",
    "lcell = cell_length(0.8)\n",
    "lcav  = 5*lcell\n",
    "print(f\"rcell={rcell:5.3} lcell={lcell:5.3} lcav={lcav:5.3}\")"
   ]
  },
  {
   "cell_type": "code",
   "execution_count": 12,
   "id": "15a4c1a6-fcf0-48a0-8501-119aea4efe77",
   "metadata": {},
   "outputs": [
    {
     "name": "stdout",
     "output_type": "stream",
     "text": [
      "[[-0.09368514312500001, 0], [-0.09368514312500001, 0.03], [-0.088685143125, 0.03], [-0.088685143125, 0.14343856384956055], [0.088685143125, 0.14343856384956055], [0.088685143125, 0.03], [0.09368514312500001, 0.03], [0.09368514312500001, 0]]\n",
      "('zmin', 'default', 'default', 'default', 'default', 'default', 'zmax', 'rmin')\n",
      "0 -2.8875127612133784e-14 freq:  nan MHz\n",
      "1 284.9258678214064 freq:  805.3910041488069 MHz\n",
      "2 603.2087357101709 freq:  1171.8570733163351 MHz\n",
      "3 1516.3505117452653 freq:  1857.978292507606 MHz\n",
      "4 1559.3968394432397 freq:  1884.1659859842898 MHz\n",
      "5 1878.0619868074225 freq:  2067.739364805677 MHz\n",
      "6 2831.671780791247 freq:  2538.997603715185 MHz\n",
      "7 3152.3085267975125 freq:  2678.8919236964857 MHz\n",
      "8 3780.534951587791 freq:  2933.7119057926557 MHz\n",
      "9 4159.091786534925 freq:  3077.0892074838357 MHz\n"
     ]
    },
    {
     "name": "stderr",
     "output_type": "stream",
     "text": [
      "/Users/stewart.boogert/Dropbox/Physics/coderepos/pyCavity2d/src/pyCavity2d/FieldCalculator.py:58: RuntimeWarning: invalid value encountered in sqrt\n",
      "  self.eigen_freq.append(c0 * _np.sqrt(lam) / (2 * _np.pi) * 1e-6)\n",
      "/Users/stewart.boogert/Dropbox/Physics/coderepos/pyCavity2d/src/pyCavity2d/FieldCalculator.py:59: RuntimeWarning: invalid value encountered in sqrt\n",
      "  print(i, lam, 'freq: ', c0 * _np.sqrt(lam) / (2 * _np.pi) * 1e-6, \"MHz\")\n"
     ]
    }
   ],
   "source": [
    "import pyCavity2d\n",
    "#b_sc = pyCavity2d.DomainLoader.load2d_boundary(\"pillbox_0.8GHz.dat\")\n",
    "b_sc = pyCavity2d.DomainCreator.make2d_rectangular(cavity_freqnecy_ghz=0.8,\n",
    "                                                   iris_thickness=0.005,\n",
    "                                                   iris_radius=0.03)\n",
    "d_sc = pyCavity2d.Domain2D(b_sc,single_cell=True,maxh=0.01)\n",
    "fc_sc = pyCavity2d.FieldCalculator(d_sc)\n",
    "fc_sc.compute(maxit=200)"
   ]
  },
  {
   "cell_type": "code",
   "execution_count": 14,
   "id": "74441f41-8833-40b8-9e80-881cbb19fa4f",
   "metadata": {},
   "outputs": [
    {
     "data": {
      "application/vnd.jupyter.widget-view+json": {
       "model_id": "14e1e1535df14c55a6b493ba21c55634",
       "version_major": 2,
       "version_minor": 0
      },
      "text/plain": [
       "WebGuiWidget(layout=Layout(height='50vh', width='100%'), value={'gui_settings': {}, 'ngsolve_version': '6.2.24…"
      ]
     },
     "metadata": {},
     "output_type": "display_data"
    }
   ],
   "source": [
    "fc_sc.draw(1)"
   ]
  },
  {
   "cell_type": "code",
   "execution_count": 16,
   "id": "0d50f836-53b7-49d1-b0e6-485fac527f1f",
   "metadata": {
    "scrolled": true
   },
   "outputs": [
    {
     "name": "stdout",
     "output_type": "stream",
     "text": [
      "[[-0.09368514312500001, 0], [-0.09368514312500001, 0.03], [-0.088685143125, 0.03], [-0.088685143125, 0.14343856384956055], [0.088685143125, 0.14343856384956055], [0.088685143125, 0.03], [0.09368514312500001, 0.03], [0.09368514312500001, 0]]\n",
      "0.18737028625000002\n",
      "('zmin', 'default', 'default', 'default', 'default', 'default', 'default', 'default', 'default', 'default', 'default', 'default', 'default', 'default', 'default', 'default', 'default', 'default', 'default', 'default', 'default', 'default', 'default', 'default', 'default', 'default', 'zmax', 'rmin')\n",
      "0 1.1947914624010063e-13 freq:  1.6492515080941086e-05 MHz\n",
      "1 282.7879115846174 freq:  802.3636676285879 MHz\n",
      "2 283.3762350293309 freq:  803.1978689415273 MHz\n",
      "3 284.10708668542145 freq:  804.2329601289366 MHz\n",
      "4 284.70065217644145 freq:  805.0726362279839 MHz\n",
      "5 284.9293298225861 freq:  805.3958970989593 MHz\n",
      "6 598.9189356504544 freq:  1167.6827288714223 MHz\n",
      "7 600.0921165914467 freq:  1168.8258158947401 MHz\n",
      "8 602.0567239209598 freq:  1170.7375285747482 MHz\n",
      "9 603.084961564491 freq:  1171.736838776559 MHz\n"
     ]
    }
   ],
   "source": [
    "import pyCavity2d\n",
    "b_sc = pyCavity2d.DomainCreator.make2d_rectangular(cavity_freqnecy_ghz=0.8,\n",
    "                                                   iris_thickness=0.005,\n",
    "                                                   iris_radius=0.03)\n",
    "#b_sc = pyCavity2d.DomainLoader.load2d_boundary(\"pillbox_0.8GHz.dat\")\n",
    "b_mc = pyCavity2d.DomainLoader.make_boundary_repeat(b_sc,5)\n",
    "d_mc = pyCavity2d.Domain2D(b_mc,single_cell=True,maxh=0.01)\n",
    "fc_mc = pyCavity2d.FieldCalculator(d_mc)\n",
    "fc_mc.compute(maxit=200)"
   ]
  },
  {
   "cell_type": "code",
   "execution_count": 18,
   "id": "69a31eee-5aa7-4484-8ab3-8f6f58e62273",
   "metadata": {},
   "outputs": [
    {
     "data": {
      "application/vnd.jupyter.widget-view+json": {
       "model_id": "94eda9e1094b4c809e5c7c1a19dbbd1b",
       "version_major": 2,
       "version_minor": 0
      },
      "text/plain": [
       "WebGuiWidget(layout=Layout(height='50vh', width='100%'), value={'gui_settings': {}, 'ngsolve_version': '6.2.24…"
      ]
     },
     "metadata": {},
     "output_type": "display_data"
    }
   ],
   "source": [
    "fc_mc.draw(1)"
   ]
  },
  {
   "cell_type": "code",
   "execution_count": 6,
   "id": "fcfaf783-b9fb-4c45-b0a5-e3f25d004686",
   "metadata": {},
   "outputs": [
    {
     "data": {
      "application/vnd.jupyter.widget-view+json": {
       "model_id": "b1e89b69d9fe492eaa621a247f24d76c",
       "version_major": 2,
       "version_minor": 0
      },
      "text/plain": [
       "WebGuiWidget(layout=Layout(height='50vh', width='100%'), value={'gui_settings': {}, 'ngsolve_version': '6.2.24…"
      ]
     },
     "metadata": {},
     "output_type": "display_data"
    }
   ],
   "source": [
    "fc_mc.draw(2)"
   ]
  },
  {
   "cell_type": "code",
   "execution_count": 7,
   "id": "c076e6d1-ae46-4305-b70b-0d6ba053a23b",
   "metadata": {},
   "outputs": [
    {
     "data": {
      "application/vnd.jupyter.widget-view+json": {
       "model_id": "72c2b916b6db4eeda7a22ab234ef1ed1",
       "version_major": 2,
       "version_minor": 0
      },
      "text/plain": [
       "WebGuiWidget(layout=Layout(height='50vh', width='100%'), value={'gui_settings': {}, 'ngsolve_version': '6.2.24…"
      ]
     },
     "metadata": {},
     "output_type": "display_data"
    }
   ],
   "source": [
    "fc_mc.draw(3)"
   ]
  },
  {
   "cell_type": "code",
   "execution_count": 8,
   "id": "6ad3c909-5218-4521-b997-4b9af7689acb",
   "metadata": {},
   "outputs": [
    {
     "data": {
      "application/vnd.jupyter.widget-view+json": {
       "model_id": "2b2d05cbc47a4d258a379bb185d7251b",
       "version_major": 2,
       "version_minor": 0
      },
      "text/plain": [
       "WebGuiWidget(layout=Layout(height='50vh', width='100%'), value={'gui_settings': {}, 'ngsolve_version': '6.2.24…"
      ]
     },
     "metadata": {},
     "output_type": "display_data"
    }
   ],
   "source": [
    "fc_mc.draw(4)"
   ]
  },
  {
   "cell_type": "code",
   "execution_count": 29,
   "id": "f9ca4a5b-1522-46f8-af9a-eb4ba3050dfd",
   "metadata": {},
   "outputs": [
    {
     "data": {
      "application/vnd.jupyter.widget-view+json": {
       "model_id": "19bd2c9baed94d7c97512707e3134a65",
       "version_major": 2,
       "version_minor": 0
      },
      "text/plain": [
       "WebGuiWidget(layout=Layout(height='50vh', width='100%'), value={'gui_settings': {}, 'ngsolve_version': '6.2.24…"
      ]
     },
     "metadata": {},
     "output_type": "display_data"
    }
   ],
   "source": [
    "fc_mc.draw(5,field=\"B\")"
   ]
  },
  {
   "cell_type": "code",
   "execution_count": null,
   "id": "b7e22d97-d46a-4bea-8b23-132919f43236",
   "metadata": {},
   "outputs": [],
   "source": []
  }
 ],
 "metadata": {
  "kernelspec": {
   "display_name": "Python 3 (ipykernel)",
   "language": "python",
   "name": "python3"
  },
  "language_info": {
   "codemirror_mode": {
    "name": "ipython",
    "version": 3
   },
   "file_extension": ".py",
   "mimetype": "text/x-python",
   "name": "python",
   "nbconvert_exporter": "python",
   "pygments_lexer": "ipython3",
   "version": "3.12.4"
  }
 },
 "nbformat": 4,
 "nbformat_minor": 5
}
