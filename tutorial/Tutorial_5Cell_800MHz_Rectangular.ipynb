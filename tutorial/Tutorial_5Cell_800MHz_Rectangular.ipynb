{
 "cells": [
  {
   "cell_type": "markdown",
   "id": "ab052cd3-3f24-4949-9f0e-fcdb2cdcacac",
   "metadata": {},
   "source": [
    "# 5 cell 800 MHz rectangular cavity \n",
    "\n",
    "\n",
    "* [PERLE collaboration meeting cavity talk](https://indico.ijclab.in2p3.fr/event/7907/contributions/24619/attachments/18114/23933/Rimmer_ERL_cavity.pdf)\n",
    "* [PERLE HOM coupler](https://accelconf.web.cern.ch/linac2022/papers/thpojo21.pdf)\n",
    "\n",
    "Cavity angular frequency $\\omega$ as a function of radius $R$\n",
    "$$ \\omega = 2\\pi f = \\frac{2.405c}{R} $$\n",
    "\n",
    "So for a $\\pi$ mode cavity the distance between two cells is \n",
    "\n",
    "$$ l_{\\rm cell} = \\frac{1}{2f} c$$\n",
    "\n",
    "For an $n_{\\rm cell}$ cavity the total cavity length is then \n",
    "\n",
    "$$ l_{\\rm cavity} = n_{\\rm cell} l_{\\rm cell}$$"
   ]
  },
  {
   "cell_type": "code",
   "execution_count": 2,
   "id": "b69174bb-42a6-4b97-b706-f8b100060035",
   "metadata": {},
   "outputs": [],
   "source": [
    "import numpy as np\n",
    "\n",
    "def freq_from_radius(radius_m) :\n",
    "    return 2.405*3e8/radius_m/1e9/2/np.pi\n",
    "\n",
    "def radius_from_freq(freq_ghz) : \n",
    "    return 2.405*3e8/(2*np.pi*freq_ghz*1e9)\n",
    "\n",
    "def cell_length(freq_ghz) :\n",
    "    return 1./(freq_ghz*1e9)/2*3e8"
   ]
  },
  {
   "cell_type": "code",
   "execution_count": 3,
   "id": "04455f79-b28b-4561-9e14-32b524450053",
   "metadata": {},
   "outputs": [
    {
     "name": "stdout",
     "output_type": "stream",
     "text": [
      "rcell=0.144 lcell=0.188 lcav=0.938\n"
     ]
    }
   ],
   "source": [
    "rcell = radius_from_freq(0.8)\n",
    "lcell = cell_length(0.8)\n",
    "lcav  = 5*lcell\n",
    "print(f\"rcell={rcell:5.3} lcell={lcell:5.3} lcav={lcav:5.3}\")"
   ]
  },
  {
   "cell_type": "code",
   "execution_count": 1,
   "id": "15a4c1a6-fcf0-48a0-8501-119aea4efe77",
   "metadata": {},
   "outputs": [
    {
     "name": "stdout",
     "output_type": "stream",
     "text": [
      "('zmin', 'default', 'default', 'default', 'default', 'default', 'zmax', 'rmin')\n",
      "0 2.9266614176630206e-14 freq:  8.162572951110571e-06 MHz\n",
      "1 284.92586782145975 freq:  805.3910041488821 MHz\n",
      "2 603.2087357102106 freq:  1171.8570733163735 MHz\n",
      "3 1516.3505117452307 freq:  1857.9782925075847 MHz\n",
      "4 1559.3968394432509 freq:  1884.1659859842964 MHz\n",
      "5 1878.0619868074127 freq:  2067.7393648056723 MHz\n",
      "6 2831.671780791243 freq:  2538.9976037151837 MHz\n",
      "7 3152.3085267973815 freq:  2678.8919236964307 MHz\n",
      "8 3780.5349515879357 freq:  2933.7119057927116 MHz\n",
      "9 4159.091786535764 freq:  3077.089207484146 MHz\n"
     ]
    }
   ],
   "source": [
    "import pyCavity2d\n",
    "#b_sc = pyCavity2d.DomainLoader.load2d_boundary(\"pillbox_0.8GHz.dat\")\n",
    "b_sc = pyCavity2d.DomainCreator.make2d_rectangular(cavity_freqnecy_ghz=0.8,\n",
    "                                                   iris_thickness=0.005,\n",
    "                                                   iris_radius=0.03)\n",
    "d_sc = pyCavity2d.Domain2D(b_sc,single_cell=True,maxh=0.01)\n",
    "fc_sc = pyCavity2d.FieldCalculator(d_sc)\n",
    "fc_sc.compute(maxit=200)"
   ]
  },
  {
   "cell_type": "code",
   "execution_count": 4,
   "id": "74441f41-8833-40b8-9e80-881cbb19fa4f",
   "metadata": {},
   "outputs": [
    {
     "data": {
      "application/vnd.jupyter.widget-view+json": {
       "model_id": "1e4dafa328b846acade280db370a7450",
       "version_major": 2,
       "version_minor": 0
      },
      "text/plain": [
       "WebGuiWidget(layout=Layout(height='50vh', width='100%'), value={'gui_settings': {}, 'ngsolve_version': '6.2.24…"
      ]
     },
     "metadata": {},
     "output_type": "display_data"
    }
   ],
   "source": [
    "fc_sc.draw(1)"
   ]
  },
  {
   "cell_type": "code",
   "execution_count": 6,
   "id": "0d50f836-53b7-49d1-b0e6-485fac527f1f",
   "metadata": {
    "scrolled": true
   },
   "outputs": [
    {
     "name": "stdout",
     "output_type": "stream",
     "text": [
      "0.18737028625000002\n",
      "('zmin', 'default', 'default', 'default', 'default', 'default', 'default', 'default', 'default', 'default', 'default', 'default', 'default', 'default', 'default', 'default', 'default', 'default', 'default', 'default', 'default', 'default', 'default', 'default', 'default', 'default', 'zmax', 'rmin')\n",
      "0 -2.2697187791656825e-13 freq:  nan MHz\n",
      "1 282.7879115846069 freq:  802.363667628573 MHz\n",
      "2 283.37623502933036 freq:  803.1978689415264 MHz\n",
      "3 284.1070866854191 freq:  804.2329601289334 MHz\n",
      "4 284.70065217644475 freq:  805.0726362279886 MHz\n",
      "5 284.9293298225625 freq:  805.395897098926 MHz\n",
      "6 598.9185831470094 freq:  1167.6823852420755 MHz\n",
      "7 600.0936938621081 freq:  1168.8273519534594 MHz\n",
      "8 601.5436317026318 freq:  1170.2385520418752 MHz\n",
      "9 602.7717906607239 freq:  1171.4325686001853 MHz\n"
     ]
    }
   ],
   "source": [
    "import pyCavity2d\n",
    "b_sc = pyCavity2d.DomainCreator.make2d_rectangular(cavity_freqnecy_ghz=0.8,\n",
    "                                                   iris_thickness=0.005,\n",
    "                                                   iris_radius=0.03)\n",
    "#b_sc = pyCavity2d.DomainLoader.load2d_boundary(\"pillbox_0.8GHz.dat\")\n",
    "b_mc = pyCavity2d.DomainLoader.make_boundary_repeat(b_sc,5)\n",
    "d_mc = pyCavity2d.Domain2D(b_mc,single_cell=True,maxh=0.01)\n",
    "fc_mc = pyCavity2d.FieldCalculator(d_mc)\n",
    "fc_mc.compute(maxit=200)"
   ]
  },
  {
   "cell_type": "code",
   "execution_count": 7,
   "id": "69a31eee-5aa7-4484-8ab3-8f6f58e62273",
   "metadata": {},
   "outputs": [
    {
     "data": {
      "application/vnd.jupyter.widget-view+json": {
       "model_id": "40e555dc1d4c4c07bc62f1b788eb4822",
       "version_major": 2,
       "version_minor": 0
      },
      "text/plain": [
       "WebGuiWidget(layout=Layout(height='50vh', width='100%'), value={'gui_settings': {}, 'ngsolve_version': '6.2.24…"
      ]
     },
     "metadata": {},
     "output_type": "display_data"
    }
   ],
   "source": [
    "fc_mc.draw(1)\n",
    "fc_mc.vtk(1,field=\"E\")"
   ]
  },
  {
   "cell_type": "code",
   "execution_count": 8,
   "id": "fcfaf783-b9fb-4c45-b0a5-e3f25d004686",
   "metadata": {},
   "outputs": [
    {
     "data": {
      "application/vnd.jupyter.widget-view+json": {
       "model_id": "e5d199bf027f4752a65225509a580d77",
       "version_major": 2,
       "version_minor": 0
      },
      "text/plain": [
       "WebGuiWidget(layout=Layout(height='50vh', width='100%'), value={'gui_settings': {}, 'ngsolve_version': '6.2.24…"
      ]
     },
     "metadata": {},
     "output_type": "display_data"
    }
   ],
   "source": [
    "fc_mc.draw(2)\n",
    "fc_mc.vtk(2,field=\"E\")"
   ]
  },
  {
   "cell_type": "code",
   "execution_count": 9,
   "id": "c076e6d1-ae46-4305-b70b-0d6ba053a23b",
   "metadata": {},
   "outputs": [
    {
     "data": {
      "application/vnd.jupyter.widget-view+json": {
       "model_id": "8bd81492754243f5aba66da9b572c175",
       "version_major": 2,
       "version_minor": 0
      },
      "text/plain": [
       "WebGuiWidget(layout=Layout(height='50vh', width='100%'), value={'gui_settings': {}, 'ngsolve_version': '6.2.24…"
      ]
     },
     "metadata": {},
     "output_type": "display_data"
    }
   ],
   "source": [
    "fc_mc.draw(3)\n",
    "fc_mc.vtk(3,field=\"E\")"
   ]
  },
  {
   "cell_type": "code",
   "execution_count": 10,
   "id": "6ad3c909-5218-4521-b997-4b9af7689acb",
   "metadata": {},
   "outputs": [
    {
     "data": {
      "application/vnd.jupyter.widget-view+json": {
       "model_id": "0eab81d191c841ff96742809e7defef1",
       "version_major": 2,
       "version_minor": 0
      },
      "text/plain": [
       "WebGuiWidget(layout=Layout(height='50vh', width='100%'), value={'gui_settings': {}, 'ngsolve_version': '6.2.24…"
      ]
     },
     "metadata": {},
     "output_type": "display_data"
    }
   ],
   "source": [
    "fc_mc.draw(4)\n",
    "fc_mc.vtk(4,field=\"E\")"
   ]
  },
  {
   "cell_type": "code",
   "execution_count": 11,
   "id": "f9ca4a5b-1522-46f8-af9a-eb4ba3050dfd",
   "metadata": {},
   "outputs": [
    {
     "data": {
      "application/vnd.jupyter.widget-view+json": {
       "model_id": "81522c6be7a54703886e42fe7afc21a9",
       "version_major": 2,
       "version_minor": 0
      },
      "text/plain": [
       "WebGuiWidget(layout=Layout(height='50vh', width='100%'), value={'gui_settings': {}, 'ngsolve_version': '6.2.24…"
      ]
     },
     "metadata": {},
     "output_type": "display_data"
    }
   ],
   "source": [
    "fc_mc.draw(5,field=\"E\")\n",
    "fc_mc.vtk(5,field=\"E\")"
   ]
  }
 ],
 "metadata": {
  "kernelspec": {
   "display_name": "Python 3 (ipykernel)",
   "language": "python",
   "name": "python3"
  },
  "language_info": {
   "codemirror_mode": {
    "name": "ipython",
    "version": 3
   },
   "file_extension": ".py",
   "mimetype": "text/x-python",
   "name": "python",
   "nbconvert_exporter": "python",
   "pygments_lexer": "ipython3",
   "version": "3.12.4"
  }
 },
 "nbformat": 4,
 "nbformat_minor": 5
}
