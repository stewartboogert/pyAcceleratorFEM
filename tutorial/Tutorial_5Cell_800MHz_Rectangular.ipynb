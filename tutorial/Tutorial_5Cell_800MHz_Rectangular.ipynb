{
 "cells": [
  {
   "cell_type": "markdown",
   "id": "ab052cd3-3f24-4949-9f0e-fcdb2cdcacac",
   "metadata": {},
   "source": [
    "# 5 cell 800 MHz rectangular cavity \n",
    "\n",
    "* [PERLE collaboration meeting cavity talk](https://indico.ijclab.in2p3.fr/event/7907/contributions/24619/attachments/18114/23933/Rimmer_ERL_cavity.pdf)\n",
    "* [PERLE HOM coupler](https://accelconf.web.cern.ch/linac2022/papers/thpojo21.pdf)\n",
    "\n",
    "Cavity angular frequency $\\omega$ as a function of radius $R$\n",
    "$$ \\omega = 2\\pi f = \\frac{2.405c}{R} $$\n",
    "\n",
    "So for a $\\pi$ mode cavity the distance between two cells is \n",
    "\n",
    "$$ l_{\\rm cell} = \\frac{1}{2f} c$$\n",
    "\n",
    "For an $n_{\\rm cell}$ cavity the total cavity length is then \n",
    "\n",
    "$$ l_{\\rm cavity} = n_{\\rm cell} l_{\\rm cell}$$"
   ]
  },
  {
   "cell_type": "code",
   "execution_count": null,
   "id": "b69174bb-42a6-4b97-b706-f8b100060035",
   "metadata": {},
   "outputs": [],
   "source": [
    "import numpy as np\n",
    "\n",
    "def freq_from_radius(radius_m) :\n",
    "    return 2.405*3e8/radius_m/1e9/2/np.pi\n",
    "\n",
    "def radius_from_freq(freq_ghz) : \n",
    "    return 2.405*3e8/(2*np.pi*freq_ghz*1e9)\n",
    "\n",
    "def cell_length(freq_ghz) :\n",
    "    return 1./(freq_ghz*1e9)/2*3e8"
   ]
  },
  {
   "cell_type": "code",
   "execution_count": null,
   "id": "04455f79-b28b-4561-9e14-32b524450053",
   "metadata": {},
   "outputs": [],
   "source": [
    "rcell = radius_from_freq(0.8)\n",
    "lcell = cell_length(0.8)\n",
    "lcav  = 5*lcell\n",
    "print(f\"rcell={rcell:5.3} lcell={lcell:5.3} lcav={lcav:5.3}\")"
   ]
  },
  {
   "cell_type": "code",
   "execution_count": null,
   "id": "15a4c1a6-fcf0-48a0-8501-119aea4efe77",
   "metadata": {},
   "outputs": [],
   "source": [
    "import pyCavity2d\n",
    "#b_sc = pyCavity2d.DomainLoader.load2d_boundary(\"pillbox_0.8GHz.dat\")\n",
    "b_sc = pyCavity2d.DomainCreator.make2d_rectangular(cavity_freqnecy_ghz=0.8,\n",
    "                                                   iris_thickness=0.005,\n",
    "                                                   iris_radius=0.03)\n",
    "d_sc = pyCavity2d.Domain2D(b_sc,single_cell=True,maxh=0.005)\n",
    "fc_sc = pyCavity2d.FieldCalculator(d_sc)\n",
    "fc_sc.compute(maxit=200)"
   ]
  },
  {
   "cell_type": "code",
   "execution_count": null,
   "id": "74441f41-8833-40b8-9e80-881cbb19fa4f",
   "metadata": {},
   "outputs": [],
   "source": [
    "fc_sc.draw(1)"
   ]
  },
  {
   "cell_type": "code",
   "execution_count": null,
   "id": "0d50f836-53b7-49d1-b0e6-485fac527f1f",
   "metadata": {},
   "outputs": [],
   "source": [
    "import pyCavity2d\n",
    "import matplotlib.pyplot as _plt\n",
    "import numpy as _np\n",
    "b_sc = pyCavity2d.DomainCreator.make2d_rectangular(cavity_freqnecy_ghz=0.8,\n",
    "                                                   iris_thickness=0.005,\n",
    "                                                   iris_radius=0.03)\n",
    "b_mc = pyCavity2d.DomainCreator.make_boundary_repeat(b_sc,5)\n",
    "\n",
    "#_plt.subplot(2,1,1)\n",
    "#pyCavity2d.DomainCreator.draw(b_sc)\n",
    "#_plt.subplot(2,1,2)\n",
    "#pyCavity2d.DomainCreator.draw(b_mc)\n",
    "\n",
    "d_mc = pyCavity2d.Domain2D(b_mc,single_cell=True,maxh=0.005) #maxh=0.0025)\n",
    "fc_mc = pyCavity2d.FieldCalculator(d_mc)\n",
    "fc_mc.compute(maxit=200)"
   ]
  },
  {
   "cell_type": "code",
   "execution_count": null,
   "id": "c8b72b38-a373-4321-bc55-aed08fd5c0af",
   "metadata": {
    "scrolled": true
   },
   "outputs": [],
   "source": [
    "fc_mc.draw(4,field=\"E\")\n",
    "fc_mc.vtk(4,field=\"E\")"
   ]
  },
  {
   "cell_type": "markdown",
   "id": "127a1498-b3d1-4ce8-af8b-f6579092f448",
   "metadata": {
    "scrolled": true
   },
   "source": [
    "# Comparing field with results from(Bjorkquist and Rosenzweig/Serafini)\n",
    "\n",
    "Starting with the axial accelerating field $E_z$, the radial electric field $E_r$ and azimuthal magnetic field $B_{\\phi}$ are \n",
    "\n",
    "$$ E_r = -\\frac{1}{2} r \\frac{\\partial E_z}{\\partial z}$$\n",
    "\n",
    "$$ B_{\\phi} = \\frac{1}{c^2} \\frac{r}{2} \\frac{\\partial E_z}{\\partial t}$$"
   ]
  },
  {
   "cell_type": "code",
   "execution_count": null,
   "id": "e6628bbd-24be-4a9c-8e72-215bc6da2ddf",
   "metadata": {},
   "outputs": [],
   "source": [
    "z, e = fc_mc.plotAxialFields(5,field=\"E\")\n",
    "z, h = fc_mc.plotAxialFields(5,field=\"H\")\n",
    "\n",
    "_plt.subplot(4,1,1)\n",
    "#_plt.plot(z,_np.abs(e[:,0]))\n",
    "_plt.plot(z,e[:,0])\n",
    "_plt.ylabel(\"$E_z$\")\n",
    "_plt.subplot(4,1,2)\n",
    "_plt.plot(z,e[:,1])\n",
    "_plt.plot(z,-_np.gradient(e[:,0], z)/2*0.005, label=\"JR\", ls=\"--\")\n",
    "_plt.ylabel(\"$E_r$\")\n",
    "_plt.legend()\n",
    "\n",
    "_plt.subplot(4,1,3)\n",
    "_plt.plot(z,_np.abs(_np.imag(h[:,0])))\n",
    "_plt.plot(z,_np.abs(e[:,0])/2/3e8**2*(2*_np.pi*802e6)/(4*_np.pi*1e-7)*0.005, label=\"JR\", ls=\"--\")\n",
    "_plt.ylabel(\"$H_{\\\\phi}$\")\n",
    "\n",
    "_plt.legend()\n",
    "_plt.tight_layout()"
   ]
  },
  {
   "cell_type": "code",
   "execution_count": null,
   "id": "e9aa1b85-f39a-4159-9115-5f9d27745924",
   "metadata": {},
   "outputs": [],
   "source": [
    "r = 0.005\n",
    "\n",
    "z, e = fc_mc.plotAxialFields(5,field=\"E\",radius=r)\n",
    "z, h = fc_mc.plotAxialFields(5,field=\"H\",radius=r)\n",
    "\n",
    "_plt.subplot(4,1,1)\n",
    "_plt.plot(z,_np.abs(e[:,0]))\n",
    "_plt.ylabel(\"$E_z$\")\n",
    "_plt.subplot(4,1,2)\n",
    "_plt.plot(z,e[:,1])\n",
    "_plt.plot(z,-_np.gradient(e[:,0], z)/2*r, label=\"JR\", ls=\"--\")\n",
    "_plt.ylabel(\"$E_r$\")\n",
    "_plt.legend()\n",
    "\n",
    "_plt.subplot(4,1,3)\n",
    "_plt.plot(z,_np.abs(_np.imag(h[:,0])))\n",
    "_plt.plot(z,_np.abs(e[:,0])/2/3e8**2*(2*_np.pi*802e6)/(4*_np.pi*1e-7)*r, label=\"JR\", ls=\"--\")\n",
    "_plt.ylabel(\"$H_{\\\\phi}$\")\n",
    "\n",
    "_plt.legend()\n",
    "_plt.tight_layout()"
   ]
  },
  {
   "cell_type": "markdown",
   "id": "26df5e91-05c9-4fd0-8ab3-6b2d13d8c208",
   "metadata": {},
   "source": [
    "### Export to superfish"
   ]
  },
  {
   "cell_type": "code",
   "execution_count": null,
   "id": "5481ca13-5ec5-4104-8336-752dd4e1f91c",
   "metadata": {},
   "outputs": [],
   "source": [
    "import pyCavity2d\n",
    "import matplotlib.pyplot as _plt\n",
    "import numpy as _np\n",
    "b_sc = pyCavity2d.DomainCreator.make2d_rectangular(cavity_freqnecy_ghz=0.8,\n",
    "                                                   iris_thickness=0.005,\n",
    "                                                   iris_radius=0.03)\n",
    "b_sc = pyCavity2d.DomainCreator.remove_identical(b_sc)\n",
    "# pyCavity2d.DomainCreator.draw(b_sc)\n",
    "pyCavity2d.DomainWriter.writeSuperfish(\"1Cell_800MHz.AF\",b_sc)"
   ]
  }
 ],
 "metadata": {
  "kernelspec": {
   "display_name": "Python 3 (ipykernel)",
   "language": "python",
   "name": "python3"
  },
  "language_info": {
   "codemirror_mode": {
    "name": "ipython",
    "version": 3
   },
   "file_extension": ".py",
   "mimetype": "text/x-python",
   "name": "python",
   "nbconvert_exporter": "python",
   "pygments_lexer": "ipython3",
   "version": "3.12.4"
  }
 },
 "nbformat": 4,
 "nbformat_minor": 5
}
