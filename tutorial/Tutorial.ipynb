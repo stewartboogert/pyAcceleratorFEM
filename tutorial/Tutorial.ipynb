{
 "cells": [
  {
   "cell_type": "code",
   "execution_count": 1,
   "id": "eb7e36b6-b798-4a4b-acaf-fa80eab10eb5",
   "metadata": {},
   "outputs": [],
   "source": [
    "import pyCavity2d\n",
    "import numpy as np"
   ]
  },
  {
   "cell_type": "code",
   "execution_count": 3,
   "id": "dc4c621b-6092-454c-aa66-800b8371d28e",
   "metadata": {},
   "outputs": [
    {
     "name": "stdout",
     "output_type": "stream",
     "text": [
      "('default', 'default', 'default', 'default', 'default', 'default', 'default', 'default', 'default', 'default', 'default', 'rmin')\n"
     ]
    }
   ],
   "source": [
    "b = pyCavity2d.DomainLoader.load2d_boundary(\"./pillbox_2.4GHz_n2.dat\")\n",
    "d = pyCavity2d.Domain2D(b,single_cell=False)"
   ]
  },
  {
   "cell_type": "code",
   "execution_count": 4,
   "id": "60476e5f-d29c-40e3-89d6-d6f1c0c37791",
   "metadata": {},
   "outputs": [],
   "source": [
    "fc = pyCavity2d.FieldCalculator(d)"
   ]
  },
  {
   "cell_type": "code",
   "execution_count": 5,
   "id": "837674f6-30bd-4165-86d0-912edb120a50",
   "metadata": {},
   "outputs": [
    {
     "name": "stdout",
     "output_type": "stream",
     "text": [
      "0 2648.2282856138536 freq:  2455.3790417401538 MHz\n",
      "1 2689.6728744795782 freq:  2474.517708525752 MHz\n",
      "2 13630.404294465785 freq:  5570.513145554732 MHz\n",
      "3 13707.102027481096 freq:  5586.163686148308 MHz\n",
      "4 14081.237771814234 freq:  5661.887691883094 MHz\n",
      "5 14489.665693451258 freq:  5743.412609536782 MHz\n",
      "6 25253.46301420972 freq:  7582.305964770888 MHz\n",
      "7 26016.328463155958 freq:  7695.978364067949 MHz\n",
      "8 34476.69012922094 freq:  8859.38586107081 MHz\n",
      "9 35535.33576478589 freq:  8994.37615378845 MHz\n"
     ]
    }
   ],
   "source": [
    "fc.compute()"
   ]
  },
  {
   "cell_type": "code",
   "execution_count": 19,
   "id": "6eb2a56a-da34-4bec-a51c-5a6daf6df2e7",
   "metadata": {},
   "outputs": [
    {
     "data": {
      "application/vnd.jupyter.widget-view+json": {
       "model_id": "ba9e4e65b56a465dab3521fdc82b7897",
       "version_major": 2,
       "version_minor": 0
      },
      "text/plain": [
       "WebGuiWidget(layout=Layout(height='50vh', width='100%'), value={'gui_settings': {}, 'ngsolve_version': '6.2.24…"
      ]
     },
     "metadata": {},
     "output_type": "display_data"
    }
   ],
   "source": [
    "fc.draw(1,\"E\")"
   ]
  },
  {
   "cell_type": "code",
   "execution_count": 2,
   "id": "4247e1b1-0d11-4243-b9cb-56dcedbe30ba",
   "metadata": {},
   "outputs": [],
   "source": [
    "d3d = pyCavity2d.Domain3D(\"./pillbox_2.4GHz_periodic.dat\")\n",
    "fc3d = pyCavity2d.FieldCalculator(d3d)"
   ]
  },
  {
   "cell_type": "code",
   "execution_count": 3,
   "id": "94df3ca1-4c56-4225-9739-0fac3369cc77",
   "metadata": {},
   "outputs": [
    {
     "name": "stdout",
     "output_type": "stream",
     "text": [
      "0 2629.065021248948 freq:  2446.479033121259 MHz\n",
      "1 6729.432757582608 freq:  3914.0832944631784 MHz\n",
      "2 6729.876461749202 freq:  3914.2123295915812 MHz\n",
      "3 12223.252117166308 freq:  5275.142784774276 MHz\n",
      "4 12227.507982364268 freq:  5276.061048692222 MHz\n",
      "5 12888.703121953815 freq:  5416.832976757463 MHz\n",
      "6 12894.946281483748 freq:  5418.144747918548 MHz\n",
      "7 14030.13435594765 freq:  5651.604334618095 MHz\n",
      "8 14170.495284887336 freq:  5679.804003759298 MHz\n",
      "9 15738.592971738892 freq:  5985.821840163173 MHz\n"
     ]
    }
   ],
   "source": [
    "fc3d.compute(axisymmetric=False)"
   ]
  },
  {
   "cell_type": "code",
   "execution_count": 5,
   "id": "6e28936b-410f-4887-b3c5-b3020bc3b110",
   "metadata": {},
   "outputs": [
    {
     "data": {
      "application/vnd.jupyter.widget-view+json": {
       "model_id": "5a451b56307c4965a1f94e4e6f597311",
       "version_major": 2,
       "version_minor": 0
      },
      "text/plain": [
       "WebGuiWidget(layout=Layout(height='50vh', width='100%'), value={'gui_settings': {}, 'ngsolve_version': '6.2.24…"
      ]
     },
     "metadata": {},
     "output_type": "display_data"
    }
   ],
   "source": [
    "fc3d.draw(2)"
   ]
  },
  {
   "cell_type": "code",
   "execution_count": 12,
   "id": "9f3c83bc-cf54-45d5-9d53-3de6b0a7e990",
   "metadata": {},
   "outputs": [
    {
     "data": {
      "text/plain": [
       "<ngsolve.fem.CoefficientFunction at 0x12c0339b0>"
      ]
     },
     "execution_count": 12,
     "metadata": {},
     "output_type": "execute_result"
    }
   ],
   "source": [
    "fc3d.gfu_H[0]"
   ]
  },
  {
   "cell_type": "code",
   "execution_count": null,
   "id": "c8ef9ccf-4614-40de-9afd-f9e8f1d1d277",
   "metadata": {},
   "outputs": [],
   "source": []
  }
 ],
 "metadata": {
  "kernelspec": {
   "display_name": "Python 3 (ipykernel)",
   "language": "python",
   "name": "python3"
  },
  "language_info": {
   "codemirror_mode": {
    "name": "ipython",
    "version": 3
   },
   "file_extension": ".py",
   "mimetype": "text/x-python",
   "name": "python",
   "nbconvert_exporter": "python",
   "pygments_lexer": "ipython3",
   "version": "3.12.4"
  }
 },
 "nbformat": 4,
 "nbformat_minor": 5
}
