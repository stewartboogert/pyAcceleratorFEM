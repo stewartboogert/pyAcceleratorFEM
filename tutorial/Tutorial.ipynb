{
 "cells": [
  {
   "cell_type": "code",
   "execution_count": null,
   "id": "eb7e36b6-b798-4a4b-acaf-fa80eab10eb5",
   "metadata": {},
   "outputs": [],
   "source": [
    "import pyCavity2d\n",
    "import numpy as np"
   ]
  },
  {
   "cell_type": "code",
   "execution_count": null,
   "id": "dc4c621b-6092-454c-aa66-800b8371d28e",
   "metadata": {},
   "outputs": [],
   "source": [
    "b = pyCavity2d.DomainLoader.load2d_boundary(\"./pillbox_2.4GHz_n2.dat\")\n",
    "d = pyCavity2d.Domain2D(b,single_cell=False)"
   ]
  },
  {
   "cell_type": "code",
   "execution_count": null,
   "id": "60476e5f-d29c-40e3-89d6-d6f1c0c37791",
   "metadata": {},
   "outputs": [],
   "source": [
    "fc = pyCavity2d.FieldCalculator(d)"
   ]
  },
  {
   "cell_type": "code",
   "execution_count": null,
   "id": "837674f6-30bd-4165-86d0-912edb120a50",
   "metadata": {},
   "outputs": [],
   "source": [
    "fc.compute()"
   ]
  },
  {
   "cell_type": "code",
   "execution_count": null,
   "id": "6eb2a56a-da34-4bec-a51c-5a6daf6df2e7",
   "metadata": {},
   "outputs": [],
   "source": [
    "fc.draw(1,\"E\")"
   ]
  },
  {
   "cell_type": "code",
   "execution_count": null,
   "id": "4247e1b1-0d11-4243-b9cb-56dcedbe30ba",
   "metadata": {},
   "outputs": [],
   "source": [
    "d3d = pyCavity2d.Domain3D(\"./pillbox_2.4GHz_periodic.dat\")\n",
    "fc3d = pyCavity2d.FieldCalculator(d3d)"
   ]
  },
  {
   "cell_type": "code",
   "execution_count": null,
   "id": "94df3ca1-4c56-4225-9739-0fac3369cc77",
   "metadata": {},
   "outputs": [],
   "source": [
    "fc3d.compute(axisymmetric=False)"
   ]
  },
  {
   "cell_type": "code",
   "execution_count": null,
   "id": "6e28936b-410f-4887-b3c5-b3020bc3b110",
   "metadata": {},
   "outputs": [],
   "source": [
    "fc3d.draw(0)"
   ]
  },
  {
   "cell_type": "code",
   "execution_count": null,
   "id": "9f3c83bc-cf54-45d5-9d53-3de6b0a7e990",
   "metadata": {},
   "outputs": [],
   "source": [
    "fc3d.gfu_H[0]"
   ]
  },
  {
   "cell_type": "code",
   "execution_count": null,
   "id": "c8ef9ccf-4614-40de-9afd-f9e8f1d1d277",
   "metadata": {},
   "outputs": [],
   "source": []
  }
 ],
 "metadata": {
  "kernelspec": {
   "display_name": "Python 3 (ipykernel)",
   "language": "python",
   "name": "python3"
  },
  "language_info": {
   "codemirror_mode": {
    "name": "ipython",
    "version": 3
   },
   "file_extension": ".py",
   "mimetype": "text/x-python",
   "name": "python",
   "nbconvert_exporter": "python",
   "pygments_lexer": "ipython3",
   "version": "3.12.4"
  }
 },
 "nbformat": 4,
 "nbformat_minor": 5
}
