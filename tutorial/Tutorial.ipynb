{
 "cells": [
  {
   "cell_type": "code",
   "execution_count": 3,
   "id": "eb7e36b6-b798-4a4b-acaf-fa80eab10eb5",
   "metadata": {},
   "outputs": [],
   "source": [
    "import pyCavity2d\n",
    "import numpy as np"
   ]
  },
  {
   "cell_type": "code",
   "execution_count": 12,
   "id": "dc4c621b-6092-454c-aa66-800b8371d28e",
   "metadata": {},
   "outputs": [
    {
     "name": "stdout",
     "output_type": "stream",
     "text": [
      "('default', 'default', 'default', 'default', 'default', 'default', 'default', 'rmin')\n"
     ]
    },
    {
     "data": {
      "application/vnd.jupyter.widget-view+json": {
       "model_id": "2f57f290441849f5a58fcda2818bd025",
       "version_major": 2,
       "version_minor": 0
      },
      "text/plain": [
       "WebGuiWidget(layout=Layout(height='50vh', width='100%'), value={'gui_settings': {}, 'ngsolve_version': '6.2.24…"
      ]
     },
     "metadata": {},
     "output_type": "display_data"
    }
   ],
   "source": [
    "d = pyCavity2d.Domain2D()"
   ]
  },
  {
   "cell_type": "code",
   "execution_count": 13,
   "id": "60476e5f-d29c-40e3-89d6-d6f1c0c37791",
   "metadata": {},
   "outputs": [],
   "source": [
    "fc = pyCavity2d.FieldCalculator(d)"
   ]
  },
  {
   "cell_type": "code",
   "execution_count": 14,
   "id": "837674f6-30bd-4165-86d0-912edb120a50",
   "metadata": {},
   "outputs": [
    {
     "name": "stdout",
     "output_type": "stream",
     "text": [
      "0 64.38348589872534 freq:  382.8494945057267 MHz\n",
      "1 311.6210695672662 freq:  842.2756422003855 MHz\n",
      "2 340.3083128576462 freq:  880.1913850075359 MHz\n",
      "3 589.3088504768442 freq:  1158.2766899245496 MHz\n",
      "4 839.2431563995872 freq:  1382.244080741157 MHz\n"
     ]
    }
   ],
   "source": [
    "fc.compute()"
   ]
  },
  {
   "cell_type": "code",
   "execution_count": 10,
   "id": "968061d1-16a2-4f53-91a8-ce14d0705d32",
   "metadata": {},
   "outputs": [
    {
     "data": {
      "application/vnd.jupyter.widget-view+json": {
       "model_id": "34d9c66540ad4c068cc5e52108cf75a3",
       "version_major": 2,
       "version_minor": 0
      },
      "text/plain": [
       "WebGuiWidget(layout=Layout(height='50vh', width='100%'), value={'gui_settings': {}, 'ngsolve_version': '6.2.24…"
      ]
     },
     "metadata": {},
     "output_type": "display_data"
    }
   ],
   "source": [
    "fc.draw(0,\"E\")"
   ]
  },
  {
   "cell_type": "code",
   "execution_count": 9,
   "id": "81a8ae4e-e029-4ba1-abd2-83b6ce8d8495",
   "metadata": {},
   "outputs": [],
   "source": [
    "gf = fc.gfu_H[1]"
   ]
  },
  {
   "cell_type": "code",
   "execution_count": 10,
   "id": "6ae5b0e1-42b7-44ae-80a7-43332a0d85d9",
   "metadata": {},
   "outputs": [
    {
     "data": {
      "text/plain": [
       "(-0.000940675806751398,)"
      ]
     },
     "execution_count": 10,
     "metadata": {},
     "output_type": "execute_result"
    }
   ],
   "source": [
    "from ngsolve import Mesh, unit_square\n",
    "mesh = Mesh (unit_square.GenerateMesh(maxh=0.2))\n",
    "mip = mesh(0.0, 0.000)\n",
    "gf(mip)"
   ]
  },
  {
   "cell_type": "code",
   "execution_count": 19,
   "id": "8f42359b-cdea-494b-849f-127c3ed3c426",
   "metadata": {},
   "outputs": [
    {
     "name": "stdout",
     "output_type": "stream",
     "text": [
      "0.000150368*(coef N6ngcomp31GridFunctionCoefficientFunctionE, real, dim=1\n",
      ")\n"
     ]
    }
   ],
   "source": [
    "print(gf)"
   ]
  },
  {
   "cell_type": "code",
   "execution_count": 9,
   "id": "af276da4-3872-42db-87b6-3d405e50cd1e",
   "metadata": {},
   "outputs": [
    {
     "name": "stdout",
     "output_type": "stream",
     "text": [
      "0.000330813*(coef N6ngcomp31GridFunctionCoefficientFunctionE, real, dim=1\n",
      ")\n"
     ]
    }
   ],
   "source": [
    "import ngsolve as _ng\n",
    "print(fc.gfu_H[0])"
   ]
  },
  {
   "cell_type": "code",
   "execution_count": 11,
   "id": "f9e0cc8d-28f3-4d0f-a314-884922317f97",
   "metadata": {},
   "outputs": [
    {
     "data": {
      "text/plain": [
       "\u001b[0;31mSignature:\u001b[0m \u001b[0mpyCavity2d\u001b[0m\u001b[0;34m.\u001b[0m\u001b[0mDomainLoader\u001b[0m\u001b[0;34m.\u001b[0m\u001b[0mload2d_boundary\u001b[0m\u001b[0;34m(\u001b[0m\u001b[0mfileName\u001b[0m\u001b[0;34m=\u001b[0m\u001b[0;34m''\u001b[0m\u001b[0;34m)\u001b[0m\u001b[0;34m\u001b[0m\u001b[0;34m\u001b[0m\u001b[0m\n",
       "\u001b[0;31mDocstring:\u001b[0m <no docstring>\n",
       "\u001b[0;31mFile:\u001b[0m      ~/Dropbox/Physics/coderepos/pyCavity2d/src/pyCavity2d/Domain.py\n",
       "\u001b[0;31mType:\u001b[0m      method"
      ]
     },
     "metadata": {},
     "output_type": "display_data"
    }
   ],
   "source": [
    "pyCavity2d.DomainL"
   ]
  },
  {
   "cell_type": "code",
   "execution_count": null,
   "id": "00630c00-fe1f-416e-aeed-34c85070a59b",
   "metadata": {},
   "outputs": [],
   "source": []
  }
 ],
 "metadata": {
  "kernelspec": {
   "display_name": "Python 3 (ipykernel)",
   "language": "python",
   "name": "python3"
  },
  "language_info": {
   "codemirror_mode": {
    "name": "ipython",
    "version": 3
   },
   "file_extension": ".py",
   "mimetype": "text/x-python",
   "name": "python",
   "nbconvert_exporter": "python",
   "pygments_lexer": "ipython3",
   "version": "3.12.4"
  }
 },
 "nbformat": 4,
 "nbformat_minor": 5
}
